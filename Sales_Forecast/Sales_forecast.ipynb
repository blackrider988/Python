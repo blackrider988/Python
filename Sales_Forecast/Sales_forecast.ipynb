{
  "nbformat": 4,
  "nbformat_minor": 0,
  "metadata": {
    "colab": {
      "name": "Ventas.ipynb",
      "provenance": [],
      "collapsed_sections": []
    },
    "kernelspec": {
      "name": "python3",
      "display_name": "Python 3"
    },
    "language_info": {
      "name": "python"
    }
  },
  "cells": [
    {
      "cell_type": "markdown",
      "source": [
        "### \"Sales forecast\"\n",
        "# Por: Edwin Gustavo Lima"
      ],
      "metadata": {
        "id": "TOOXrvlCWbgO"
      }
    },
    {
      "cell_type": "markdown",
      "source": [
        " Predecir la variable ventas con Facebook Prophet"
      ],
      "metadata": {
        "id": "RpqFUn6sXHVq"
      }
    },
    {
      "cell_type": "markdown",
      "source": [
        "Librerías a utilizar"
      ],
      "metadata": {
        "id": "pqz54Lg8leT_"
      }
    },
    {
      "cell_type": "code",
      "execution_count": null,
      "metadata": {
        "id": "ff0XMrnmk7xJ"
      },
      "outputs": [],
      "source": [
        "import pandas as pd\n",
        "import numpy as np\n",
        "import seaborn as sns\n",
        "import matplotlib.pyplot as plt\n",
        "from datetime import datetime\n",
        "\n",
        "from sklearn.metrics import confusion_matrix, classification_report\n",
        "from sklearn.preprocessing import StandardScaler, normalize\n",
        "from sklearn.cluster import KMeans\n",
        "from sklearn.decomposition import PCA\n",
        "import tensorflow as tf\n",
        "from sklearn.ensemble import RandomForestClassifier\n",
        "from sklearn.linear_model import LogisticRegression\n",
        "from sklearn.metrics import accuracy_score\n"
      ]
    },
    {
      "cell_type": "markdown",
      "source": [
        "Montar la carpeta de Google Drive"
      ],
      "metadata": {
        "id": "g-FEv-cmXTu_"
      }
    },
    {
      "cell_type": "code",
      "source": [
        "from google.colab import drive\n",
        "drive.mount('/content/drive')"
      ],
      "metadata": {
        "colab": {
          "base_uri": "https://localhost:8080/"
        },
        "id": "px84Y81_mHiD",
        "outputId": "5a92a751-8556-44b0-953f-70b8498d1d22"
      },
      "execution_count": null,
      "outputs": [
        {
          "output_type": "stream",
          "name": "stdout",
          "text": [
            "Mounted at /content/drive\n"
          ]
        }
      ]
    },
    {
      "cell_type": "markdown",
      "source": [
        "Se carga el archivo \"Employee_Attrition.csv\" desde google drive "
      ],
      "metadata": {
        "id": "xJiTAgD4Y7L_"
      }
    },
    {
      "cell_type": "code",
      "source": [
        "sales_df = pd.read_csv(\"/content/drive/My Drive/ProyectoFinalAD/online_retail_II final.csv\")"
      ],
      "metadata": {
        "id": "R8Akr_51mVT5"
      },
      "execution_count": null,
      "outputs": []
    },
    {
      "cell_type": "code",
      "source": [
        "sales_df['invoicedate'] = pd.to_datetime(sales_df['invoicedate'])"
      ],
      "metadata": {
        "id": "qL96J9ksLM13"
      },
      "execution_count": null,
      "outputs": []
    },
    {
      "cell_type": "code",
      "source": [
        "sales_df['sales'] = sales_df['quantity'] * sales_df['price']"
      ],
      "metadata": {
        "id": "vKdNmnkHMpe5"
      },
      "execution_count": null,
      "outputs": []
    },
    {
      "cell_type": "markdown",
      "source": [
        "# Se realiza un análisis exploratorio\n",
        "\n",
        "\n",
        "\n"
      ],
      "metadata": {
        "id": "fMaSd0cIXiyO"
      }
    },
    {
      "cell_type": "code",
      "source": [
        "sales_df.head(5)"
      ],
      "metadata": {
        "id": "R_6P6l6cmzn5",
        "colab": {
          "base_uri": "https://localhost:8080/",
          "height": 206
        },
        "outputId": "b6b267cb-9a8a-4b58-b53b-d3f960556418"
      },
      "execution_count": null,
      "outputs": [
        {
          "output_type": "execute_result",
          "data": {
            "text/plain": [
              "  invoiceno stockcode                          description  quantity  \\\n",
              "0    489434     85048  15CM CHRISTMAS GLASS BALL 20 LIGHTS        12   \n",
              "1    489434    79323P                   PINK CHERRY LIGHTS        12   \n",
              "2    489434    79323W                  WHITE CHERRY LIGHTS        12   \n",
              "3    489434     22041          RECORD FRAME 7 SINGLE SIZE         48   \n",
              "4    489434     21232       STRAWBERRY CERAMIC TRINKET BOX        24   \n",
              "\n",
              "          invoicedate  price  customerid         country  sales  \n",
              "0 2009-12-01 07:45:00   6.95       13085  United Kingdom   83.4  \n",
              "1 2009-12-01 07:45:00   6.75       13085  United Kingdom   81.0  \n",
              "2 2009-12-01 07:45:00   6.75       13085  United Kingdom   81.0  \n",
              "3 2009-12-01 07:45:00   2.10       13085  United Kingdom  100.8  \n",
              "4 2009-12-01 07:45:00   1.25       13085  United Kingdom   30.0  "
            ],
            "text/html": [
              "\n",
              "  <div id=\"df-309e61fa-4a2e-41bf-8e34-fa63720e54dc\">\n",
              "    <div class=\"colab-df-container\">\n",
              "      <div>\n",
              "<style scoped>\n",
              "    .dataframe tbody tr th:only-of-type {\n",
              "        vertical-align: middle;\n",
              "    }\n",
              "\n",
              "    .dataframe tbody tr th {\n",
              "        vertical-align: top;\n",
              "    }\n",
              "\n",
              "    .dataframe thead th {\n",
              "        text-align: right;\n",
              "    }\n",
              "</style>\n",
              "<table border=\"1\" class=\"dataframe\">\n",
              "  <thead>\n",
              "    <tr style=\"text-align: right;\">\n",
              "      <th></th>\n",
              "      <th>invoiceno</th>\n",
              "      <th>stockcode</th>\n",
              "      <th>description</th>\n",
              "      <th>quantity</th>\n",
              "      <th>invoicedate</th>\n",
              "      <th>price</th>\n",
              "      <th>customerid</th>\n",
              "      <th>country</th>\n",
              "      <th>sales</th>\n",
              "    </tr>\n",
              "  </thead>\n",
              "  <tbody>\n",
              "    <tr>\n",
              "      <th>0</th>\n",
              "      <td>489434</td>\n",
              "      <td>85048</td>\n",
              "      <td>15CM CHRISTMAS GLASS BALL 20 LIGHTS</td>\n",
              "      <td>12</td>\n",
              "      <td>2009-12-01 07:45:00</td>\n",
              "      <td>6.95</td>\n",
              "      <td>13085</td>\n",
              "      <td>United Kingdom</td>\n",
              "      <td>83.4</td>\n",
              "    </tr>\n",
              "    <tr>\n",
              "      <th>1</th>\n",
              "      <td>489434</td>\n",
              "      <td>79323P</td>\n",
              "      <td>PINK CHERRY LIGHTS</td>\n",
              "      <td>12</td>\n",
              "      <td>2009-12-01 07:45:00</td>\n",
              "      <td>6.75</td>\n",
              "      <td>13085</td>\n",
              "      <td>United Kingdom</td>\n",
              "      <td>81.0</td>\n",
              "    </tr>\n",
              "    <tr>\n",
              "      <th>2</th>\n",
              "      <td>489434</td>\n",
              "      <td>79323W</td>\n",
              "      <td>WHITE CHERRY LIGHTS</td>\n",
              "      <td>12</td>\n",
              "      <td>2009-12-01 07:45:00</td>\n",
              "      <td>6.75</td>\n",
              "      <td>13085</td>\n",
              "      <td>United Kingdom</td>\n",
              "      <td>81.0</td>\n",
              "    </tr>\n",
              "    <tr>\n",
              "      <th>3</th>\n",
              "      <td>489434</td>\n",
              "      <td>22041</td>\n",
              "      <td>RECORD FRAME 7 SINGLE SIZE</td>\n",
              "      <td>48</td>\n",
              "      <td>2009-12-01 07:45:00</td>\n",
              "      <td>2.10</td>\n",
              "      <td>13085</td>\n",
              "      <td>United Kingdom</td>\n",
              "      <td>100.8</td>\n",
              "    </tr>\n",
              "    <tr>\n",
              "      <th>4</th>\n",
              "      <td>489434</td>\n",
              "      <td>21232</td>\n",
              "      <td>STRAWBERRY CERAMIC TRINKET BOX</td>\n",
              "      <td>24</td>\n",
              "      <td>2009-12-01 07:45:00</td>\n",
              "      <td>1.25</td>\n",
              "      <td>13085</td>\n",
              "      <td>United Kingdom</td>\n",
              "      <td>30.0</td>\n",
              "    </tr>\n",
              "  </tbody>\n",
              "</table>\n",
              "</div>\n",
              "      <button class=\"colab-df-convert\" onclick=\"convertToInteractive('df-309e61fa-4a2e-41bf-8e34-fa63720e54dc')\"\n",
              "              title=\"Convert this dataframe to an interactive table.\"\n",
              "              style=\"display:none;\">\n",
              "        \n",
              "  <svg xmlns=\"http://www.w3.org/2000/svg\" height=\"24px\"viewBox=\"0 0 24 24\"\n",
              "       width=\"24px\">\n",
              "    <path d=\"M0 0h24v24H0V0z\" fill=\"none\"/>\n",
              "    <path d=\"M18.56 5.44l.94 2.06.94-2.06 2.06-.94-2.06-.94-.94-2.06-.94 2.06-2.06.94zm-11 1L8.5 8.5l.94-2.06 2.06-.94-2.06-.94L8.5 2.5l-.94 2.06-2.06.94zm10 10l.94 2.06.94-2.06 2.06-.94-2.06-.94-.94-2.06-.94 2.06-2.06.94z\"/><path d=\"M17.41 7.96l-1.37-1.37c-.4-.4-.92-.59-1.43-.59-.52 0-1.04.2-1.43.59L10.3 9.45l-7.72 7.72c-.78.78-.78 2.05 0 2.83L4 21.41c.39.39.9.59 1.41.59.51 0 1.02-.2 1.41-.59l7.78-7.78 2.81-2.81c.8-.78.8-2.07 0-2.86zM5.41 20L4 18.59l7.72-7.72 1.47 1.35L5.41 20z\"/>\n",
              "  </svg>\n",
              "      </button>\n",
              "      \n",
              "  <style>\n",
              "    .colab-df-container {\n",
              "      display:flex;\n",
              "      flex-wrap:wrap;\n",
              "      gap: 12px;\n",
              "    }\n",
              "\n",
              "    .colab-df-convert {\n",
              "      background-color: #E8F0FE;\n",
              "      border: none;\n",
              "      border-radius: 50%;\n",
              "      cursor: pointer;\n",
              "      display: none;\n",
              "      fill: #1967D2;\n",
              "      height: 32px;\n",
              "      padding: 0 0 0 0;\n",
              "      width: 32px;\n",
              "    }\n",
              "\n",
              "    .colab-df-convert:hover {\n",
              "      background-color: #E2EBFA;\n",
              "      box-shadow: 0px 1px 2px rgba(60, 64, 67, 0.3), 0px 1px 3px 1px rgba(60, 64, 67, 0.15);\n",
              "      fill: #174EA6;\n",
              "    }\n",
              "\n",
              "    [theme=dark] .colab-df-convert {\n",
              "      background-color: #3B4455;\n",
              "      fill: #D2E3FC;\n",
              "    }\n",
              "\n",
              "    [theme=dark] .colab-df-convert:hover {\n",
              "      background-color: #434B5C;\n",
              "      box-shadow: 0px 1px 3px 1px rgba(0, 0, 0, 0.15);\n",
              "      filter: drop-shadow(0px 1px 2px rgba(0, 0, 0, 0.3));\n",
              "      fill: #FFFFFF;\n",
              "    }\n",
              "  </style>\n",
              "\n",
              "      <script>\n",
              "        const buttonEl =\n",
              "          document.querySelector('#df-309e61fa-4a2e-41bf-8e34-fa63720e54dc button.colab-df-convert');\n",
              "        buttonEl.style.display =\n",
              "          google.colab.kernel.accessAllowed ? 'block' : 'none';\n",
              "\n",
              "        async function convertToInteractive(key) {\n",
              "          const element = document.querySelector('#df-309e61fa-4a2e-41bf-8e34-fa63720e54dc');\n",
              "          const dataTable =\n",
              "            await google.colab.kernel.invokeFunction('convertToInteractive',\n",
              "                                                     [key], {});\n",
              "          if (!dataTable) return;\n",
              "\n",
              "          const docLinkHtml = 'Like what you see? Visit the ' +\n",
              "            '<a target=\"_blank\" href=https://colab.research.google.com/notebooks/data_table.ipynb>data table notebook</a>'\n",
              "            + ' to learn more about interactive tables.';\n",
              "          element.innerHTML = '';\n",
              "          dataTable['output_type'] = 'display_data';\n",
              "          await google.colab.output.renderOutput(dataTable, element);\n",
              "          const docLink = document.createElement('div');\n",
              "          docLink.innerHTML = docLinkHtml;\n",
              "          element.appendChild(docLink);\n",
              "        }\n",
              "      </script>\n",
              "    </div>\n",
              "  </div>\n",
              "  "
            ]
          },
          "metadata": {},
          "execution_count": 6
        }
      ]
    },
    {
      "cell_type": "markdown",
      "source": [
        "Mostrando los últimos 5 registros del data set"
      ],
      "metadata": {
        "id": "8JQonefjXqML"
      }
    },
    {
      "cell_type": "code",
      "source": [
        "sales_df.tail(5)"
      ],
      "metadata": {
        "colab": {
          "base_uri": "https://localhost:8080/",
          "height": 206
        },
        "id": "j8o1hfFyqzbE",
        "outputId": "cd5c35e6-9e8a-46d4-e30c-fcd55b7d3ccd"
      },
      "execution_count": null,
      "outputs": [
        {
          "output_type": "execute_result",
          "data": {
            "text/plain": [
              "       invoiceno stockcode                      description  quantity  \\\n",
              "824359    581587     22899     CHILDREN'S APRON DOLLY GIRL          6   \n",
              "824360    581587     23254    CHILDRENS CUTLERY DOLLY GIRL          4   \n",
              "824361    581587     23255  CHILDRENS CUTLERY CIRCUS PARADE         4   \n",
              "824362    581587     22138    BAKING SET 9 PIECE RETROSPOT          3   \n",
              "824363    581587      POST                          POSTAGE         1   \n",
              "\n",
              "               invoicedate  price  customerid country  sales  \n",
              "824359 2011-12-09 12:50:00   2.10       12680  France  12.60  \n",
              "824360 2011-12-09 12:50:00   4.15       12680  France  16.60  \n",
              "824361 2011-12-09 12:50:00   4.15       12680  France  16.60  \n",
              "824362 2011-12-09 12:50:00   4.95       12680  France  14.85  \n",
              "824363 2011-12-09 12:50:00  18.00       12680  France  18.00  "
            ],
            "text/html": [
              "\n",
              "  <div id=\"df-61c1641b-20b2-43ec-9fb4-655ab9aa2d1f\">\n",
              "    <div class=\"colab-df-container\">\n",
              "      <div>\n",
              "<style scoped>\n",
              "    .dataframe tbody tr th:only-of-type {\n",
              "        vertical-align: middle;\n",
              "    }\n",
              "\n",
              "    .dataframe tbody tr th {\n",
              "        vertical-align: top;\n",
              "    }\n",
              "\n",
              "    .dataframe thead th {\n",
              "        text-align: right;\n",
              "    }\n",
              "</style>\n",
              "<table border=\"1\" class=\"dataframe\">\n",
              "  <thead>\n",
              "    <tr style=\"text-align: right;\">\n",
              "      <th></th>\n",
              "      <th>invoiceno</th>\n",
              "      <th>stockcode</th>\n",
              "      <th>description</th>\n",
              "      <th>quantity</th>\n",
              "      <th>invoicedate</th>\n",
              "      <th>price</th>\n",
              "      <th>customerid</th>\n",
              "      <th>country</th>\n",
              "      <th>sales</th>\n",
              "    </tr>\n",
              "  </thead>\n",
              "  <tbody>\n",
              "    <tr>\n",
              "      <th>824359</th>\n",
              "      <td>581587</td>\n",
              "      <td>22899</td>\n",
              "      <td>CHILDREN'S APRON DOLLY GIRL</td>\n",
              "      <td>6</td>\n",
              "      <td>2011-12-09 12:50:00</td>\n",
              "      <td>2.10</td>\n",
              "      <td>12680</td>\n",
              "      <td>France</td>\n",
              "      <td>12.60</td>\n",
              "    </tr>\n",
              "    <tr>\n",
              "      <th>824360</th>\n",
              "      <td>581587</td>\n",
              "      <td>23254</td>\n",
              "      <td>CHILDRENS CUTLERY DOLLY GIRL</td>\n",
              "      <td>4</td>\n",
              "      <td>2011-12-09 12:50:00</td>\n",
              "      <td>4.15</td>\n",
              "      <td>12680</td>\n",
              "      <td>France</td>\n",
              "      <td>16.60</td>\n",
              "    </tr>\n",
              "    <tr>\n",
              "      <th>824361</th>\n",
              "      <td>581587</td>\n",
              "      <td>23255</td>\n",
              "      <td>CHILDRENS CUTLERY CIRCUS PARADE</td>\n",
              "      <td>4</td>\n",
              "      <td>2011-12-09 12:50:00</td>\n",
              "      <td>4.15</td>\n",
              "      <td>12680</td>\n",
              "      <td>France</td>\n",
              "      <td>16.60</td>\n",
              "    </tr>\n",
              "    <tr>\n",
              "      <th>824362</th>\n",
              "      <td>581587</td>\n",
              "      <td>22138</td>\n",
              "      <td>BAKING SET 9 PIECE RETROSPOT</td>\n",
              "      <td>3</td>\n",
              "      <td>2011-12-09 12:50:00</td>\n",
              "      <td>4.95</td>\n",
              "      <td>12680</td>\n",
              "      <td>France</td>\n",
              "      <td>14.85</td>\n",
              "    </tr>\n",
              "    <tr>\n",
              "      <th>824363</th>\n",
              "      <td>581587</td>\n",
              "      <td>POST</td>\n",
              "      <td>POSTAGE</td>\n",
              "      <td>1</td>\n",
              "      <td>2011-12-09 12:50:00</td>\n",
              "      <td>18.00</td>\n",
              "      <td>12680</td>\n",
              "      <td>France</td>\n",
              "      <td>18.00</td>\n",
              "    </tr>\n",
              "  </tbody>\n",
              "</table>\n",
              "</div>\n",
              "      <button class=\"colab-df-convert\" onclick=\"convertToInteractive('df-61c1641b-20b2-43ec-9fb4-655ab9aa2d1f')\"\n",
              "              title=\"Convert this dataframe to an interactive table.\"\n",
              "              style=\"display:none;\">\n",
              "        \n",
              "  <svg xmlns=\"http://www.w3.org/2000/svg\" height=\"24px\"viewBox=\"0 0 24 24\"\n",
              "       width=\"24px\">\n",
              "    <path d=\"M0 0h24v24H0V0z\" fill=\"none\"/>\n",
              "    <path d=\"M18.56 5.44l.94 2.06.94-2.06 2.06-.94-2.06-.94-.94-2.06-.94 2.06-2.06.94zm-11 1L8.5 8.5l.94-2.06 2.06-.94-2.06-.94L8.5 2.5l-.94 2.06-2.06.94zm10 10l.94 2.06.94-2.06 2.06-.94-2.06-.94-.94-2.06-.94 2.06-2.06.94z\"/><path d=\"M17.41 7.96l-1.37-1.37c-.4-.4-.92-.59-1.43-.59-.52 0-1.04.2-1.43.59L10.3 9.45l-7.72 7.72c-.78.78-.78 2.05 0 2.83L4 21.41c.39.39.9.59 1.41.59.51 0 1.02-.2 1.41-.59l7.78-7.78 2.81-2.81c.8-.78.8-2.07 0-2.86zM5.41 20L4 18.59l7.72-7.72 1.47 1.35L5.41 20z\"/>\n",
              "  </svg>\n",
              "      </button>\n",
              "      \n",
              "  <style>\n",
              "    .colab-df-container {\n",
              "      display:flex;\n",
              "      flex-wrap:wrap;\n",
              "      gap: 12px;\n",
              "    }\n",
              "\n",
              "    .colab-df-convert {\n",
              "      background-color: #E8F0FE;\n",
              "      border: none;\n",
              "      border-radius: 50%;\n",
              "      cursor: pointer;\n",
              "      display: none;\n",
              "      fill: #1967D2;\n",
              "      height: 32px;\n",
              "      padding: 0 0 0 0;\n",
              "      width: 32px;\n",
              "    }\n",
              "\n",
              "    .colab-df-convert:hover {\n",
              "      background-color: #E2EBFA;\n",
              "      box-shadow: 0px 1px 2px rgba(60, 64, 67, 0.3), 0px 1px 3px 1px rgba(60, 64, 67, 0.15);\n",
              "      fill: #174EA6;\n",
              "    }\n",
              "\n",
              "    [theme=dark] .colab-df-convert {\n",
              "      background-color: #3B4455;\n",
              "      fill: #D2E3FC;\n",
              "    }\n",
              "\n",
              "    [theme=dark] .colab-df-convert:hover {\n",
              "      background-color: #434B5C;\n",
              "      box-shadow: 0px 1px 3px 1px rgba(0, 0, 0, 0.15);\n",
              "      filter: drop-shadow(0px 1px 2px rgba(0, 0, 0, 0.3));\n",
              "      fill: #FFFFFF;\n",
              "    }\n",
              "  </style>\n",
              "\n",
              "      <script>\n",
              "        const buttonEl =\n",
              "          document.querySelector('#df-61c1641b-20b2-43ec-9fb4-655ab9aa2d1f button.colab-df-convert');\n",
              "        buttonEl.style.display =\n",
              "          google.colab.kernel.accessAllowed ? 'block' : 'none';\n",
              "\n",
              "        async function convertToInteractive(key) {\n",
              "          const element = document.querySelector('#df-61c1641b-20b2-43ec-9fb4-655ab9aa2d1f');\n",
              "          const dataTable =\n",
              "            await google.colab.kernel.invokeFunction('convertToInteractive',\n",
              "                                                     [key], {});\n",
              "          if (!dataTable) return;\n",
              "\n",
              "          const docLinkHtml = 'Like what you see? Visit the ' +\n",
              "            '<a target=\"_blank\" href=https://colab.research.google.com/notebooks/data_table.ipynb>data table notebook</a>'\n",
              "            + ' to learn more about interactive tables.';\n",
              "          element.innerHTML = '';\n",
              "          dataTable['output_type'] = 'display_data';\n",
              "          await google.colab.output.renderOutput(dataTable, element);\n",
              "          const docLink = document.createElement('div');\n",
              "          docLink.innerHTML = docLinkHtml;\n",
              "          element.appendChild(docLink);\n",
              "        }\n",
              "      </script>\n",
              "    </div>\n",
              "  </div>\n",
              "  "
            ]
          },
          "metadata": {},
          "execution_count": 7
        }
      ]
    },
    {
      "cell_type": "markdown",
      "source": [
        "Se realiza una revisión de las caracteristicas del data set"
      ],
      "metadata": {
        "id": "J4B-v50eXwem"
      }
    },
    {
      "cell_type": "code",
      "source": [
        "sales_df.info()"
      ],
      "metadata": {
        "colab": {
          "base_uri": "https://localhost:8080/"
        },
        "id": "RympQsKQscwv",
        "outputId": "bb2d0125-2a67-403a-cba4-143227af9735"
      },
      "execution_count": null,
      "outputs": [
        {
          "output_type": "stream",
          "name": "stdout",
          "text": [
            "<class 'pandas.core.frame.DataFrame'>\n",
            "RangeIndex: 824364 entries, 0 to 824363\n",
            "Data columns (total 9 columns):\n",
            " #   Column       Non-Null Count   Dtype         \n",
            "---  ------       --------------   -----         \n",
            " 0   invoiceno    824364 non-null  object        \n",
            " 1   stockcode    824364 non-null  object        \n",
            " 2   description  824364 non-null  object        \n",
            " 3   quantity     824364 non-null  int64         \n",
            " 4   invoicedate  824364 non-null  datetime64[ns]\n",
            " 5   price        824364 non-null  float64       \n",
            " 6   customerid   824364 non-null  int64         \n",
            " 7   country      824364 non-null  object        \n",
            " 8   sales        824364 non-null  float64       \n",
            "dtypes: datetime64[ns](1), float64(2), int64(2), object(4)\n",
            "memory usage: 56.6+ MB\n"
          ]
        }
      ]
    },
    {
      "cell_type": "markdown",
      "source": [
        "Se realiza un resumen de las variables númericas."
      ],
      "metadata": {
        "id": "tMzVH2LxX8EN"
      }
    },
    {
      "cell_type": "code",
      "source": [
        "sales_df.describe()"
      ],
      "metadata": {
        "colab": {
          "base_uri": "https://localhost:8080/",
          "height": 301
        },
        "id": "WmH8CcxwsnEy",
        "outputId": "110e690d-6fc9-4864-b109-b42f5a0bb393"
      },
      "execution_count": null,
      "outputs": [
        {
          "output_type": "execute_result",
          "data": {
            "text/plain": [
              "            quantity          price     customerid          sales\n",
              "count  824364.000000  824364.000000  824364.000000  824364.000000\n",
              "mean       12.414574       3.676800   15324.638504      20.195317\n",
              "std       188.976099      70.241388    1697.464450     308.685001\n",
              "min    -80995.000000       0.000000   12346.000000 -168469.600000\n",
              "25%         2.000000       1.250000   13975.000000       4.250000\n",
              "50%         5.000000       1.950000   15255.000000      11.250000\n",
              "75%        12.000000       3.750000   16797.000000      19.500000\n",
              "max     80995.000000   38970.000000   18287.000000  168469.600000"
            ],
            "text/html": [
              "\n",
              "  <div id=\"df-d44d794d-5b55-474a-8106-35ce44751120\">\n",
              "    <div class=\"colab-df-container\">\n",
              "      <div>\n",
              "<style scoped>\n",
              "    .dataframe tbody tr th:only-of-type {\n",
              "        vertical-align: middle;\n",
              "    }\n",
              "\n",
              "    .dataframe tbody tr th {\n",
              "        vertical-align: top;\n",
              "    }\n",
              "\n",
              "    .dataframe thead th {\n",
              "        text-align: right;\n",
              "    }\n",
              "</style>\n",
              "<table border=\"1\" class=\"dataframe\">\n",
              "  <thead>\n",
              "    <tr style=\"text-align: right;\">\n",
              "      <th></th>\n",
              "      <th>quantity</th>\n",
              "      <th>price</th>\n",
              "      <th>customerid</th>\n",
              "      <th>sales</th>\n",
              "    </tr>\n",
              "  </thead>\n",
              "  <tbody>\n",
              "    <tr>\n",
              "      <th>count</th>\n",
              "      <td>824364.000000</td>\n",
              "      <td>824364.000000</td>\n",
              "      <td>824364.000000</td>\n",
              "      <td>824364.000000</td>\n",
              "    </tr>\n",
              "    <tr>\n",
              "      <th>mean</th>\n",
              "      <td>12.414574</td>\n",
              "      <td>3.676800</td>\n",
              "      <td>15324.638504</td>\n",
              "      <td>20.195317</td>\n",
              "    </tr>\n",
              "    <tr>\n",
              "      <th>std</th>\n",
              "      <td>188.976099</td>\n",
              "      <td>70.241388</td>\n",
              "      <td>1697.464450</td>\n",
              "      <td>308.685001</td>\n",
              "    </tr>\n",
              "    <tr>\n",
              "      <th>min</th>\n",
              "      <td>-80995.000000</td>\n",
              "      <td>0.000000</td>\n",
              "      <td>12346.000000</td>\n",
              "      <td>-168469.600000</td>\n",
              "    </tr>\n",
              "    <tr>\n",
              "      <th>25%</th>\n",
              "      <td>2.000000</td>\n",
              "      <td>1.250000</td>\n",
              "      <td>13975.000000</td>\n",
              "      <td>4.250000</td>\n",
              "    </tr>\n",
              "    <tr>\n",
              "      <th>50%</th>\n",
              "      <td>5.000000</td>\n",
              "      <td>1.950000</td>\n",
              "      <td>15255.000000</td>\n",
              "      <td>11.250000</td>\n",
              "    </tr>\n",
              "    <tr>\n",
              "      <th>75%</th>\n",
              "      <td>12.000000</td>\n",
              "      <td>3.750000</td>\n",
              "      <td>16797.000000</td>\n",
              "      <td>19.500000</td>\n",
              "    </tr>\n",
              "    <tr>\n",
              "      <th>max</th>\n",
              "      <td>80995.000000</td>\n",
              "      <td>38970.000000</td>\n",
              "      <td>18287.000000</td>\n",
              "      <td>168469.600000</td>\n",
              "    </tr>\n",
              "  </tbody>\n",
              "</table>\n",
              "</div>\n",
              "      <button class=\"colab-df-convert\" onclick=\"convertToInteractive('df-d44d794d-5b55-474a-8106-35ce44751120')\"\n",
              "              title=\"Convert this dataframe to an interactive table.\"\n",
              "              style=\"display:none;\">\n",
              "        \n",
              "  <svg xmlns=\"http://www.w3.org/2000/svg\" height=\"24px\"viewBox=\"0 0 24 24\"\n",
              "       width=\"24px\">\n",
              "    <path d=\"M0 0h24v24H0V0z\" fill=\"none\"/>\n",
              "    <path d=\"M18.56 5.44l.94 2.06.94-2.06 2.06-.94-2.06-.94-.94-2.06-.94 2.06-2.06.94zm-11 1L8.5 8.5l.94-2.06 2.06-.94-2.06-.94L8.5 2.5l-.94 2.06-2.06.94zm10 10l.94 2.06.94-2.06 2.06-.94-2.06-.94-.94-2.06-.94 2.06-2.06.94z\"/><path d=\"M17.41 7.96l-1.37-1.37c-.4-.4-.92-.59-1.43-.59-.52 0-1.04.2-1.43.59L10.3 9.45l-7.72 7.72c-.78.78-.78 2.05 0 2.83L4 21.41c.39.39.9.59 1.41.59.51 0 1.02-.2 1.41-.59l7.78-7.78 2.81-2.81c.8-.78.8-2.07 0-2.86zM5.41 20L4 18.59l7.72-7.72 1.47 1.35L5.41 20z\"/>\n",
              "  </svg>\n",
              "      </button>\n",
              "      \n",
              "  <style>\n",
              "    .colab-df-container {\n",
              "      display:flex;\n",
              "      flex-wrap:wrap;\n",
              "      gap: 12px;\n",
              "    }\n",
              "\n",
              "    .colab-df-convert {\n",
              "      background-color: #E8F0FE;\n",
              "      border: none;\n",
              "      border-radius: 50%;\n",
              "      cursor: pointer;\n",
              "      display: none;\n",
              "      fill: #1967D2;\n",
              "      height: 32px;\n",
              "      padding: 0 0 0 0;\n",
              "      width: 32px;\n",
              "    }\n",
              "\n",
              "    .colab-df-convert:hover {\n",
              "      background-color: #E2EBFA;\n",
              "      box-shadow: 0px 1px 2px rgba(60, 64, 67, 0.3), 0px 1px 3px 1px rgba(60, 64, 67, 0.15);\n",
              "      fill: #174EA6;\n",
              "    }\n",
              "\n",
              "    [theme=dark] .colab-df-convert {\n",
              "      background-color: #3B4455;\n",
              "      fill: #D2E3FC;\n",
              "    }\n",
              "\n",
              "    [theme=dark] .colab-df-convert:hover {\n",
              "      background-color: #434B5C;\n",
              "      box-shadow: 0px 1px 3px 1px rgba(0, 0, 0, 0.15);\n",
              "      filter: drop-shadow(0px 1px 2px rgba(0, 0, 0, 0.3));\n",
              "      fill: #FFFFFF;\n",
              "    }\n",
              "  </style>\n",
              "\n",
              "      <script>\n",
              "        const buttonEl =\n",
              "          document.querySelector('#df-d44d794d-5b55-474a-8106-35ce44751120 button.colab-df-convert');\n",
              "        buttonEl.style.display =\n",
              "          google.colab.kernel.accessAllowed ? 'block' : 'none';\n",
              "\n",
              "        async function convertToInteractive(key) {\n",
              "          const element = document.querySelector('#df-d44d794d-5b55-474a-8106-35ce44751120');\n",
              "          const dataTable =\n",
              "            await google.colab.kernel.invokeFunction('convertToInteractive',\n",
              "                                                     [key], {});\n",
              "          if (!dataTable) return;\n",
              "\n",
              "          const docLinkHtml = 'Like what you see? Visit the ' +\n",
              "            '<a target=\"_blank\" href=https://colab.research.google.com/notebooks/data_table.ipynb>data table notebook</a>'\n",
              "            + ' to learn more about interactive tables.';\n",
              "          element.innerHTML = '';\n",
              "          dataTable['output_type'] = 'display_data';\n",
              "          await google.colab.output.renderOutput(dataTable, element);\n",
              "          const docLink = document.createElement('div');\n",
              "          docLink.innerHTML = docLinkHtml;\n",
              "          element.appendChild(docLink);\n",
              "        }\n",
              "      </script>\n",
              "    </div>\n",
              "  </div>\n",
              "  "
            ]
          },
          "metadata": {},
          "execution_count": 9
        }
      ]
    },
    {
      "cell_type": "markdown",
      "source": [
        "Se hace una revisión de la cantidad de valores nules por campo."
      ],
      "metadata": {
        "id": "W_umOsvYYCEt"
      }
    },
    {
      "cell_type": "code",
      "source": [
        "sales_df.isnull().sum()"
      ],
      "metadata": {
        "colab": {
          "base_uri": "https://localhost:8080/"
        },
        "id": "4SbkqpRwz2jq",
        "outputId": "b16fa3fd-d5de-474f-ae6e-ee335f4aba31"
      },
      "execution_count": null,
      "outputs": [
        {
          "output_type": "execute_result",
          "data": {
            "text/plain": [
              "invoiceno      0\n",
              "stockcode      0\n",
              "description    0\n",
              "quantity       0\n",
              "invoicedate    0\n",
              "price          0\n",
              "customerid     0\n",
              "country        0\n",
              "sales          0\n",
              "dtype: int64"
            ]
          },
          "metadata": {},
          "execution_count": 10
        }
      ]
    },
    {
      "cell_type": "markdown",
      "source": [
        "Utilizamos matplotlib para validar gráficamente que no existen valores nulos."
      ],
      "metadata": {
        "id": "fdtxqfBvZJMB"
      }
    },
    {
      "cell_type": "code",
      "source": [
        "sns.heatmap(sales_df.isnull(), yticklabels=False, cbar=False, cmap = \"Blues\")"
      ],
      "metadata": {
        "colab": {
          "base_uri": "https://localhost:8080/",
          "height": 330
        },
        "id": "t4CyKB9HtWqx",
        "outputId": "2fc9ecf3-2954-4283-a980-0400689da92c"
      },
      "execution_count": null,
      "outputs": [
        {
          "output_type": "execute_result",
          "data": {
            "text/plain": [
              "<matplotlib.axes._subplots.AxesSubplot at 0x7fe1e1bef710>"
            ]
          },
          "metadata": {},
          "execution_count": 11
        },
        {
          "output_type": "display_data",
          "data": {
            "text/plain": [
              "<Figure size 432x288 with 1 Axes>"
            ],
            "image/png": "[encoded data removed]"
          },
          "metadata": {
            "needs_background": "light"
          }
        }
      ]
    },
    {
      "cell_type": "markdown",
      "source": [],
      "metadata": {
        "id": "u00oOyQMulwO"
      }
    },
    {
      "cell_type": "code",
      "source": [
        "sales_df.hist(bins = 30, figsize=(20,20), color = 'b')\n"
      ],
      "metadata": {
        "colab": {
          "base_uri": "https://localhost:8080/",
          "height": 1000
        },
        "id": "eCXXKWAbtlJr",
        "outputId": "8881b908-55d6-4f4b-a33c-dbad8827ff80"
      },
      "execution_count": null,
      "outputs": [
        {
          "output_type": "execute_result",
          "data": {
            "text/plain": [
              "array([[<matplotlib.axes._subplots.AxesSubplot object at 0x7fe1e1d94c10>,\n",
              "        <matplotlib.axes._subplots.AxesSubplot object at 0x7fe1e1766290>],\n",
              "       [<matplotlib.axes._subplots.AxesSubplot object at 0x7fe1e1918890>,\n",
              "        <matplotlib.axes._subplots.AxesSubplot object at 0x7fe1e1e3ce90>],\n",
              "       [<matplotlib.axes._subplots.AxesSubplot object at 0x7fe1e16694d0>,\n",
              "        <matplotlib.axes._subplots.AxesSubplot object at 0x7fe1e19eaad0>]],\n",
              "      dtype=object)"
            ]
          },
          "metadata": {},
          "execution_count": 12
        },
        {
          "output_type": "display_data",
          "data": {
            "text/plain": [
              "<Figure size 1440x1440 with 6 Axes>"
            ],
            "image/png": "[encoded data removed]"
          },
          "metadata": {
            "needs_background": "light"
          }
        }
      ]
    },
    {
      "cell_type": "markdown",
      "source": [
        "Filtramos todas las ventas positivas"
      ],
      "metadata": {
        "id": "2kYXmX1usbvK"
      }
    },
    {
      "cell_type": "code",
      "source": [
        "sales_df = sales_df[sales_df['sales'] >= 0]"
      ],
      "metadata": {
        "id": "MWoE290ilBUg"
      },
      "execution_count": null,
      "outputs": []
    },
    {
      "cell_type": "markdown",
      "source": [
        "Verificamos si en el grafico si todavia existen valores de venta negativos"
      ],
      "metadata": {
        "id": "9FdGLlOnmdOf"
      }
    },
    {
      "cell_type": "code",
      "source": [
        "sales_df.hist(bins = 30, figsize=(20,20), color = 'b')"
      ],
      "metadata": {
        "colab": {
          "base_uri": "https://localhost:8080/",
          "height": 1000
        },
        "id": "I0at7cYmmIFL",
        "outputId": "35e49f29-2cf2-4b48-e57e-990e7686e996"
      },
      "execution_count": null,
      "outputs": [
        {
          "output_type": "execute_result",
          "data": {
            "text/plain": [
              "array([[<matplotlib.axes._subplots.AxesSubplot object at 0x7fe1de468a10>,\n",
              "        <matplotlib.axes._subplots.AxesSubplot object at 0x7fe1e165a550>],\n",
              "       [<matplotlib.axes._subplots.AxesSubplot object at 0x7fe1de5fa950>,\n",
              "        <matplotlib.axes._subplots.AxesSubplot object at 0x7fe1de549490>],\n",
              "       [<matplotlib.axes._subplots.AxesSubplot object at 0x7fe1de57e310>,\n",
              "        <matplotlib.axes._subplots.AxesSubplot object at 0x7fe1de3d6390>]],\n",
              "      dtype=object)"
            ]
          },
          "metadata": {},
          "execution_count": 14
        },
        {
          "output_type": "display_data",
          "data": {
            "text/plain": [
              "<Figure size 1440x1440 with 6 Axes>"
            ],
            "image/png": "[encoded data removed]"
          },
          "metadata": {
            "needs_background": "light"
          }
        }
      ]
    },
    {
      "cell_type": "markdown",
      "source": [
        "## Análisis númerico\n",
        "\n",
        "Se realiza agrupamiento por País y por descripción de Producto"
      ],
      "metadata": {
        "id": "3-R09nJDmijg"
      }
    },
    {
      "cell_type": "code",
      "source": [
        "paises_df = sales_df.groupby(['country'])\n",
        "articulos_df = sales_df.groupby(['description'])"
      ],
      "metadata": {
        "id": "kxvGzEF9m0Ht"
      },
      "execution_count": null,
      "outputs": []
    },
    {
      "cell_type": "code",
      "source": [
        "print(\"Total de ventas = {} \".format(len(sales_df)))\n",
        "print(\"Numero de paises = {}\".format(len(paises_df)))\n",
        "print(\"Cantidad de articulos = {}\".format(len(articulos_df)))\n",
        "print(\"Monto de ventas = {}\".format(round(sales_df['sales'].sum()),2))\n",
        "print(\"Promedio por venta = {}\".format(round(sales_df['sales'].mean()),2))"
      ],
      "metadata": {
        "colab": {
          "base_uri": "https://localhost:8080/"
        },
        "id": "hOF-YjDbmjUl",
        "outputId": "f56fa710-1db0-43ee-9664-7b2dbf43306a"
      },
      "execution_count": null,
      "outputs": [
        {
          "output_type": "stream",
          "name": "stdout",
          "text": [
            "Total de ventas = 805620 \n",
            "Numero de paises = 41\n",
            "Cantidad de articulos = 5283\n",
            "Monto de ventas = 17743429\n",
            "Promedio por venta = 22\n"
          ]
        }
      ]
    },
    {
      "cell_type": "markdown",
      "source": [
        "Graficamos la matriz de correlación para validar que variables se encuentran fuertemente relacionadas"
      ],
      "metadata": {
        "id": "wgRtyM2jaoK2"
      }
    },
    {
      "cell_type": "code",
      "source": [
        "correlations = sales_df.corr()\n",
        "f, ax = plt.subplots(figsize = (20,20))\n",
        "sns.heatmap(correlations, annot=True)"
      ],
      "metadata": {
        "colab": {
          "base_uri": "https://localhost:8080/",
          "height": 1000
        },
        "id": "5PDv_Q6o5TAU",
        "outputId": "61bbfa21-1b6e-4142-9e1b-6545e8f376e8"
      },
      "execution_count": null,
      "outputs": [
        {
          "output_type": "execute_result",
          "data": {
            "text/plain": [
              "<matplotlib.axes._subplots.AxesSubplot at 0x7fe1de1cee10>"
            ]
          },
          "metadata": {},
          "execution_count": 17
        },
        {
          "output_type": "display_data",
          "data": {
            "text/plain": [
              "<Figure size 1440x1440 with 2 Axes>"
            ],
            "image/png": "[encoded data removed]"
          },
          "metadata": {
            "needs_background": "light"
          }
        }
      ]
    },
    {
      "cell_type": "markdown",
      "source": [
        "Máximo y Mínimo de ventas"
      ],
      "metadata": {
        "id": "4S3hlP1fkWD4"
      }
    },
    {
      "cell_type": "code",
      "source": [
        "sales_df[\"sales\"].max()"
      ],
      "metadata": {
        "colab": {
          "base_uri": "https://localhost:8080/"
        },
        "id": "dJr6KlIrjvGc",
        "outputId": "8d503e54-fbce-463e-9e49-afc77fa9b8a2"
      },
      "execution_count": null,
      "outputs": [
        {
          "output_type": "execute_result",
          "data": {
            "text/plain": [
              "168469.6"
            ]
          },
          "metadata": {},
          "execution_count": 18
        }
      ]
    },
    {
      "cell_type": "code",
      "source": [
        "sales_df[\"sales\"].min()"
      ],
      "metadata": {
        "colab": {
          "base_uri": "https://localhost:8080/"
        },
        "id": "Tlifhg5hkX8t",
        "outputId": "be6427cb-15bd-45ba-dec4-09feb907cd83"
      },
      "execution_count": null,
      "outputs": [
        {
          "output_type": "execute_result",
          "data": {
            "text/plain": [
              "0.0"
            ]
          },
          "metadata": {},
          "execution_count": 19
        }
      ]
    },
    {
      "cell_type": "markdown",
      "source": [
        "# Forecast Facebook Prophet"
      ],
      "metadata": {
        "id": "1Y1t27JYjv-A"
      }
    },
    {
      "cell_type": "markdown",
      "source": [
        "Se prepara nuestro data set para la prediccion ds la fecha y y el campo a predecir"
      ],
      "metadata": {
        "id": "HJy5lplMkDKN"
      }
    },
    {
      "cell_type": "code",
      "source": [
        "sales_df.rename(columns={'invoicedate':'ds'},inplace = True)"
      ],
      "metadata": {
        "id": "uehll_iIQ9rB"
      },
      "execution_count": null,
      "outputs": []
    },
    {
      "cell_type": "code",
      "source": [
        "sales_df.rename(columns={'sales':'y'},inplace = True)"
      ],
      "metadata": {
        "id": "Lb9vLJKSRCVz"
      },
      "execution_count": null,
      "outputs": []
    },
    {
      "cell_type": "code",
      "source": [
        "!pip install prophet\n",
        "from prophet import Prophet"
      ],
      "metadata": {
        "colab": {
          "base_uri": "https://localhost:8080/"
        },
        "id": "-mOFL5IMIs93",
        "outputId": "6e5d882a-1f83-44de-fa38-2a527b121cf8"
      },
      "execution_count": null,
      "outputs": [
        {
          "output_type": "stream",
          "name": "stdout",
          "text": [
            "Looking in indexes: https://pypi.org/simple, https://us-python.pkg.dev/colab-wheels/public/simple/\n",
            "Requirement already satisfied: prophet in /usr/local/lib/python3.7/dist-packages (1.1)\n",
            "Requirement already satisfied: cmdstanpy>=1.0.1 in /usr/local/lib/python3.7/dist-packages (from prophet) (1.0.4)\n",
            "Requirement already satisfied: matplotlib>=2.0.0 in /usr/local/lib/python3.7/dist-packages (from prophet) (3.2.2)\n",
            "Requirement already satisfied: convertdate>=2.1.2 in /usr/local/lib/python3.7/dist-packages (from prophet) (2.4.0)\n",
            "Requirement already satisfied: pandas>=1.0.4 in /usr/local/lib/python3.7/dist-packages (from prophet) (1.3.5)\n",
            "Requirement already satisfied: Cython>=0.22 in /usr/local/lib/python3.7/dist-packages (from prophet) (0.29.32)\n",
            "Requirement already satisfied: setuptools>=42 in /usr/local/lib/python3.7/dist-packages (from prophet) (57.4.0)\n",
            "Requirement already satisfied: python-dateutil>=2.8.0 in /usr/local/lib/python3.7/dist-packages (from prophet) (2.8.2)\n",
            "Requirement already satisfied: setuptools-git>=1.2 in /usr/local/lib/python3.7/dist-packages (from prophet) (1.2)\n",
            "Requirement already satisfied: wheel>=0.37.0 in /usr/local/lib/python3.7/dist-packages (from prophet) (0.37.1)\n",
            "Requirement already satisfied: holidays>=0.13 in /usr/local/lib/python3.7/dist-packages (from prophet) (0.14.2)\n",
            "Requirement already satisfied: tqdm>=4.36.1 in /usr/local/lib/python3.7/dist-packages (from prophet) (4.64.0)\n",
            "Requirement already satisfied: LunarCalendar>=0.0.9 in /usr/local/lib/python3.7/dist-packages (from prophet) (0.0.9)\n",
            "Requirement already satisfied: numpy>=1.15.4 in /usr/local/lib/python3.7/dist-packages (from prophet) (1.21.6)\n",
            "Requirement already satisfied: ujson in /usr/local/lib/python3.7/dist-packages (from cmdstanpy>=1.0.1->prophet) (5.4.0)\n",
            "Requirement already satisfied: pymeeus<=1,>=0.3.13 in /usr/local/lib/python3.7/dist-packages (from convertdate>=2.1.2->prophet) (0.5.11)\n",
            "Requirement already satisfied: korean-lunar-calendar in /usr/local/lib/python3.7/dist-packages (from holidays>=0.13->prophet) (0.2.1)\n",
            "Requirement already satisfied: hijri-converter in /usr/local/lib/python3.7/dist-packages (from holidays>=0.13->prophet) (2.2.4)\n",
            "Requirement already satisfied: ephem>=3.7.5.3 in /usr/local/lib/python3.7/dist-packages (from LunarCalendar>=0.0.9->prophet) (4.1.3)\n",
            "Requirement already satisfied: pytz in /usr/local/lib/python3.7/dist-packages (from LunarCalendar>=0.0.9->prophet) (2022.1)\n",
            "Requirement already satisfied: pyparsing!=2.0.4,!=2.1.2,!=2.1.6,>=2.0.1 in /usr/local/lib/python3.7/dist-packages (from matplotlib>=2.0.0->prophet) (3.0.9)\n",
            "Requirement already satisfied: kiwisolver>=1.0.1 in /usr/local/lib/python3.7/dist-packages (from matplotlib>=2.0.0->prophet) (1.4.4)\n",
            "Requirement already satisfied: cycler>=0.10 in /usr/local/lib/python3.7/dist-packages (from matplotlib>=2.0.0->prophet) (0.11.0)\n",
            "Requirement already satisfied: typing-extensions in /usr/local/lib/python3.7/dist-packages (from kiwisolver>=1.0.1->matplotlib>=2.0.0->prophet) (4.1.1)\n",
            "Requirement already satisfied: six>=1.5 in /usr/local/lib/python3.7/dist-packages (from python-dateutil>=2.8.0->prophet) (1.15.0)\n"
          ]
        }
      ]
    },
    {
      "cell_type": "markdown",
      "source": [
        "Se crea el modelo Prophet"
      ],
      "metadata": {
        "id": "3IwlzLMm1Qm3"
      }
    },
    {
      "cell_type": "code",
      "source": [
        "model = Prophet()"
      ],
      "metadata": {
        "id": "SBHl_iDIJH0S"
      },
      "execution_count": null,
      "outputs": []
    },
    {
      "cell_type": "markdown",
      "source": [
        "Se entrena el modelo."
      ],
      "metadata": {
        "id": "9hJG4hRO12LC"
      }
    },
    {
      "cell_type": "code",
      "source": [
        "model.fit(sales_df)"
      ],
      "metadata": {
        "colab": {
          "base_uri": "https://localhost:8080/"
        },
        "id": "yDwHDZEBJzOy",
        "outputId": "78f0a16b-ccdd-48f2-a924-cfc819f0e53a"
      },
      "execution_count": null,
      "outputs": [
        {
          "output_type": "stream",
          "name": "stderr",
          "text": [
            "06:39:47 - cmdstanpy - INFO - Chain [1] start processing\n",
            "06:41:02 - cmdstanpy - INFO - Chain [1] done processing\n"
          ]
        },
        {
          "output_type": "execute_result",
          "data": {
            "text/plain": [
              "<prophet.forecaster.Prophet at 0x7fe1dd103ad0>"
            ]
          },
          "metadata": {},
          "execution_count": 24
        }
      ]
    },
    {
      "cell_type": "markdown",
      "source": [
        "#Se realiza un forecast de un año para la variable ventas."
      ],
      "metadata": {
        "id": "6McmvvpC1PaG"
      }
    },
    {
      "cell_type": "code",
      "source": [
        "future = model.make_future_dataframe(periods=365)"
      ],
      "metadata": {
        "id": "x-sHDDBVOjU8"
      },
      "execution_count": null,
      "outputs": []
    },
    {
      "cell_type": "code",
      "source": [
        "forecast = model.predict(future)"
      ],
      "metadata": {
        "id": "nxzzhPs0Opfw"
      },
      "execution_count": null,
      "outputs": []
    },
    {
      "cell_type": "code",
      "source": [
        "fig1 = model.plot(forecast)"
      ],
      "metadata": {
        "colab": {
          "base_uri": "https://localhost:8080/",
          "height": 441
        },
        "id": "uPRE7YcnO3kU",
        "outputId": "460a052b-7e7c-474b-be34-1750518d7916"
      },
      "execution_count": null,
      "outputs": [
        {
          "output_type": "display_data",
          "data": {
            "text/plain": [
              "<Figure size 720x432 with 1 Axes>"
            ],
            "image/png": "[encoded data removed]"
          },
          "metadata": {}
        }
      ]
    },
    {
      "cell_type": "code",
      "source": [
        "fig2 = model.plot_components(forecast)"
      ],
      "metadata": {
        "colab": {
          "base_uri": "https://localhost:8080/",
          "height": 873
        },
        "id": "lpmQ0UvEO8yP",
        "outputId": "07f4d72e-d08e-40df-fe5f-a364ea58b5d9"
      },
      "execution_count": null,
      "outputs": [
        {
          "output_type": "display_data",
          "data": {
            "text/plain": [
              "<Figure size 648x864 with 4 Axes>"
            ],
            "image/png": "[encoded data removed]"
          },
          "metadata": {}
        }
      ]
    },
    {
      "cell_type": "code",
      "source": [
        "plt.show()"
      ],
      "metadata": {
        "id": "OIszZ3aWPNZJ"
      },
      "execution_count": null,
      "outputs": []
    },
    {
      "cell_type": "code",
      "source": [
        "forecast"
      ],
      "metadata": {
        "colab": {
          "base_uri": "https://localhost:8080/",
          "height": 835
        },
        "id": "HXa2W3mMPJHN",
        "outputId": "f3e9fb73-e371-4629-9c98-c942af9e55a0"
      },
      "execution_count": null,
      "outputs": [
        {
          "output_type": "execute_result",
          "data": {
            "text/plain": [
              "                       ds      trend  yhat_lower  yhat_upper  trend_lower  \\\n",
              "0     2009-12-01 07:45:00  40.006644 -238.730718  318.933133    40.006644   \n",
              "1     2009-12-01 07:46:00  40.006610 -246.548229  333.841906    40.006610   \n",
              "2     2009-12-01 09:06:00  40.003873 -230.154537  312.002124    40.003873   \n",
              "3     2009-12-01 09:08:00  40.003805 -236.566711  331.268957    40.003805   \n",
              "4     2009-12-01 09:24:00  40.003257 -257.835153  296.831830    40.003257   \n",
              "...                   ...        ...         ...         ...          ...   \n",
              "34951 2012-12-04 12:50:00  60.457016 -235.230428  351.134778    40.568900   \n",
              "34952 2012-12-05 12:50:00  60.500533 -234.339189  345.622529    40.421007   \n",
              "34953 2012-12-06 12:50:00  60.544051 -256.390193  348.498586    40.289936   \n",
              "34954 2012-12-07 12:50:00  60.587568 -234.189649  337.622801    40.160844   \n",
              "34955 2012-12-08 12:50:00  60.631085 -262.282059  312.974318    40.115426   \n",
              "\n",
              "       trend_upper  additive_terms  additive_terms_lower  \\\n",
              "0        40.006644        2.783340              2.783340   \n",
              "1        40.006610        2.583386              2.583386   \n",
              "2        40.003873       -5.094844             -5.094844   \n",
              "3        40.003805       -5.174926             -5.174926   \n",
              "4        40.003257       -5.810786             -5.810786   \n",
              "...            ...             ...                   ...   \n",
              "34951    80.615040      -20.955586            -20.955586   \n",
              "34952    80.724086      -22.400816            -22.400816   \n",
              "34953    80.907966      -20.296273            -20.296273   \n",
              "34954    81.086825      -18.710612            -18.710612   \n",
              "34955    81.235669      -27.302417            -27.302417   \n",
              "\n",
              "       additive_terms_upper      daily  ...    weekly  weekly_lower  \\\n",
              "0                  2.783340   3.995178  ...  3.275755      3.275755   \n",
              "1                  2.583386   3.794303  ...  3.276276      3.276276   \n",
              "2                 -5.094844  -3.947712  ...  3.308004      3.308004   \n",
              "3                 -5.174926  -4.029138  ...  3.308546      3.308546   \n",
              "4                 -5.810786  -4.675315  ...  3.312448      3.312448   \n",
              "...                     ...        ...  ...       ...           ...   \n",
              "34951            -20.955586 -21.766139  ...  3.295802      3.295802   \n",
              "34952            -22.400816 -21.766139  ...  1.290203      1.290203   \n",
              "34953            -20.296273 -21.766139  ...  2.851729      2.851729   \n",
              "34954            -18.710612 -21.766139  ...  3.915425      3.915425   \n",
              "34955            -27.302417 -21.766139  ... -5.174554     -5.174554   \n",
              "\n",
              "       weekly_upper    yearly  yearly_lower  yearly_upper  \\\n",
              "0          3.275755 -4.487593     -4.487593     -4.487593   \n",
              "1          3.276276 -4.487193     -4.487193     -4.487193   \n",
              "2          3.308004 -4.455136     -4.455136     -4.455136   \n",
              "3          3.308546 -4.454334     -4.454334     -4.454334   \n",
              "4          3.312448 -4.447920     -4.447920     -4.447920   \n",
              "...             ...       ...           ...           ...   \n",
              "34951      3.295802 -2.485249     -2.485249     -2.485249   \n",
              "34952      1.290203 -1.924880     -1.924880     -1.924880   \n",
              "34953      2.851729 -1.381863     -1.381863     -1.381863   \n",
              "34954      3.915425 -0.859898     -0.859898     -0.859898   \n",
              "34955     -5.174554 -0.361724     -0.361724     -0.361724   \n",
              "\n",
              "       multiplicative_terms  multiplicative_terms_lower  \\\n",
              "0                       0.0                         0.0   \n",
              "1                       0.0                         0.0   \n",
              "2                       0.0                         0.0   \n",
              "3                       0.0                         0.0   \n",
              "4                       0.0                         0.0   \n",
              "...                     ...                         ...   \n",
              "34951                   0.0                         0.0   \n",
              "34952                   0.0                         0.0   \n",
              "34953                   0.0                         0.0   \n",
              "34954                   0.0                         0.0   \n",
              "34955                   0.0                         0.0   \n",
              "\n",
              "       multiplicative_terms_upper       yhat  \n",
              "0                             0.0  42.789984  \n",
              "1                             0.0  42.589997  \n",
              "2                             0.0  34.909029  \n",
              "3                             0.0  34.828879  \n",
              "4                             0.0  34.192471  \n",
              "...                           ...        ...  \n",
              "34951                         0.0  39.501430  \n",
              "34952                         0.0  38.099717  \n",
              "34953                         0.0  40.247778  \n",
              "34954                         0.0  41.876956  \n",
              "34955                         0.0  33.328668  \n",
              "\n",
              "[34956 rows x 22 columns]"
            ],
            "text/html": [
              "\n",
              "  <div id=\"df-ce97c4f3-73fa-463d-b998-c3945c8f4660\">\n",
              "    <div class=\"colab-df-container\">\n",
              "      <div>\n",
              "<style scoped>\n",
              "    .dataframe tbody tr th:only-of-type {\n",
              "        vertical-align: middle;\n",
              "    }\n",
              "\n",
              "    .dataframe tbody tr th {\n",
              "        vertical-align: top;\n",
              "    }\n",
              "\n",
              "    .dataframe thead th {\n",
              "        text-align: right;\n",
              "    }\n",
              "</style>\n",
              "<table border=\"1\" class=\"dataframe\">\n",
              "  <thead>\n",
              "    <tr style=\"text-align: right;\">\n",
              "      <th></th>\n",
              "      <th>ds</th>\n",
              "      <th>trend</th>\n",
              "      <th>yhat_lower</th>\n",
              "      <th>yhat_upper</th>\n",
              "      <th>trend_lower</th>\n",
              "      <th>trend_upper</th>\n",
              "      <th>additive_terms</th>\n",
              "      <th>additive_terms_lower</th>\n",
              "      <th>additive_terms_upper</th>\n",
              "      <th>daily</th>\n",
              "      <th>...</th>\n",
              "      <th>weekly</th>\n",
              "      <th>weekly_lower</th>\n",
              "      <th>weekly_upper</th>\n",
              "      <th>yearly</th>\n",
              "      <th>yearly_lower</th>\n",
              "      <th>yearly_upper</th>\n",
              "      <th>multiplicative_terms</th>\n",
              "      <th>multiplicative_terms_lower</th>\n",
              "      <th>multiplicative_terms_upper</th>\n",
              "      <th>yhat</th>\n",
              "    </tr>\n",
              "  </thead>\n",
              "  <tbody>\n",
              "    <tr>\n",
              "      <th>0</th>\n",
              "      <td>2009-12-01 07:45:00</td>\n",
              "      <td>40.006644</td>\n",
              "      <td>-238.730718</td>\n",
              "      <td>318.933133</td>\n",
              "      <td>40.006644</td>\n",
              "      <td>40.006644</td>\n",
              "      <td>2.783340</td>\n",
              "      <td>2.783340</td>\n",
              "      <td>2.783340</td>\n",
              "      <td>3.995178</td>\n",
              "      <td>...</td>\n",
              "      <td>3.275755</td>\n",
              "      <td>3.275755</td>\n",
              "      <td>3.275755</td>\n",
              "      <td>-4.487593</td>\n",
              "      <td>-4.487593</td>\n",
              "      <td>-4.487593</td>\n",
              "      <td>0.0</td>\n",
              "      <td>0.0</td>\n",
              "      <td>0.0</td>\n",
              "      <td>42.789984</td>\n",
              "    </tr>\n",
              "    <tr>\n",
              "      <th>1</th>\n",
              "      <td>2009-12-01 07:46:00</td>\n",
              "      <td>40.006610</td>\n",
              "      <td>-246.548229</td>\n",
              "      <td>333.841906</td>\n",
              "      <td>40.006610</td>\n",
              "      <td>40.006610</td>\n",
              "      <td>2.583386</td>\n",
              "      <td>2.583386</td>\n",
              "      <td>2.583386</td>\n",
              "      <td>3.794303</td>\n",
              "      <td>...</td>\n",
              "      <td>3.276276</td>\n",
              "      <td>3.276276</td>\n",
              "      <td>3.276276</td>\n",
              "      <td>-4.487193</td>\n",
              "      <td>-4.487193</td>\n",
              "      <td>-4.487193</td>\n",
              "      <td>0.0</td>\n",
              "      <td>0.0</td>\n",
              "      <td>0.0</td>\n",
              "      <td>42.589997</td>\n",
              "    </tr>\n",
              "    <tr>\n",
              "      <th>2</th>\n",
              "      <td>2009-12-01 09:06:00</td>\n",
              "      <td>40.003873</td>\n",
              "      <td>-230.154537</td>\n",
              "      <td>312.002124</td>\n",
              "      <td>40.003873</td>\n",
              "      <td>40.003873</td>\n",
              "      <td>-5.094844</td>\n",
              "      <td>-5.094844</td>\n",
              "      <td>-5.094844</td>\n",
              "      <td>-3.947712</td>\n",
              "      <td>...</td>\n",
              "      <td>3.308004</td>\n",
              "      <td>3.308004</td>\n",
              "      <td>3.308004</td>\n",
              "      <td>-4.455136</td>\n",
              "      <td>-4.455136</td>\n",
              "      <td>-4.455136</td>\n",
              "      <td>0.0</td>\n",
              "      <td>0.0</td>\n",
              "      <td>0.0</td>\n",
              "      <td>34.909029</td>\n",
              "    </tr>\n",
              "    <tr>\n",
              "      <th>3</th>\n",
              "      <td>2009-12-01 09:08:00</td>\n",
              "      <td>40.003805</td>\n",
              "      <td>-236.566711</td>\n",
              "      <td>331.268957</td>\n",
              "      <td>40.003805</td>\n",
              "      <td>40.003805</td>\n",
              "      <td>-5.174926</td>\n",
              "      <td>-5.174926</td>\n",
              "      <td>-5.174926</td>\n",
              "      <td>-4.029138</td>\n",
              "      <td>...</td>\n",
              "      <td>3.308546</td>\n",
              "      <td>3.308546</td>\n",
              "      <td>3.308546</td>\n",
              "      <td>-4.454334</td>\n",
              "      <td>-4.454334</td>\n",
              "      <td>-4.454334</td>\n",
              "      <td>0.0</td>\n",
              "      <td>0.0</td>\n",
              "      <td>0.0</td>\n",
              "      <td>34.828879</td>\n",
              "    </tr>\n",
              "    <tr>\n",
              "      <th>4</th>\n",
              "      <td>2009-12-01 09:24:00</td>\n",
              "      <td>40.003257</td>\n",
              "      <td>-257.835153</td>\n",
              "      <td>296.831830</td>\n",
              "      <td>40.003257</td>\n",
              "      <td>40.003257</td>\n",
              "      <td>-5.810786</td>\n",
              "      <td>-5.810786</td>\n",
              "      <td>-5.810786</td>\n",
              "      <td>-4.675315</td>\n",
              "      <td>...</td>\n",
              "      <td>3.312448</td>\n",
              "      <td>3.312448</td>\n",
              "      <td>3.312448</td>\n",
              "      <td>-4.447920</td>\n",
              "      <td>-4.447920</td>\n",
              "      <td>-4.447920</td>\n",
              "      <td>0.0</td>\n",
              "      <td>0.0</td>\n",
              "      <td>0.0</td>\n",
              "      <td>34.192471</td>\n",
              "    </tr>\n",
              "    <tr>\n",
              "      <th>...</th>\n",
              "      <td>...</td>\n",
              "      <td>...</td>\n",
              "      <td>...</td>\n",
              "      <td>...</td>\n",
              "      <td>...</td>\n",
              "      <td>...</td>\n",
              "      <td>...</td>\n",
              "      <td>...</td>\n",
              "      <td>...</td>\n",
              "      <td>...</td>\n",
              "      <td>...</td>\n",
              "      <td>...</td>\n",
              "      <td>...</td>\n",
              "      <td>...</td>\n",
              "      <td>...</td>\n",
              "      <td>...</td>\n",
              "      <td>...</td>\n",
              "      <td>...</td>\n",
              "      <td>...</td>\n",
              "      <td>...</td>\n",
              "      <td>...</td>\n",
              "    </tr>\n",
              "    <tr>\n",
              "      <th>34951</th>\n",
              "      <td>2012-12-04 12:50:00</td>\n",
              "      <td>60.457016</td>\n",
              "      <td>-235.230428</td>\n",
              "      <td>351.134778</td>\n",
              "      <td>40.568900</td>\n",
              "      <td>80.615040</td>\n",
              "      <td>-20.955586</td>\n",
              "      <td>-20.955586</td>\n",
              "      <td>-20.955586</td>\n",
              "      <td>-21.766139</td>\n",
              "      <td>...</td>\n",
              "      <td>3.295802</td>\n",
              "      <td>3.295802</td>\n",
              "      <td>3.295802</td>\n",
              "      <td>-2.485249</td>\n",
              "      <td>-2.485249</td>\n",
              "      <td>-2.485249</td>\n",
              "      <td>0.0</td>\n",
              "      <td>0.0</td>\n",
              "      <td>0.0</td>\n",
              "      <td>39.501430</td>\n",
              "    </tr>\n",
              "    <tr>\n",
              "      <th>34952</th>\n",
              "      <td>2012-12-05 12:50:00</td>\n",
              "      <td>60.500533</td>\n",
              "      <td>-234.339189</td>\n",
              "      <td>345.622529</td>\n",
              "      <td>40.421007</td>\n",
              "      <td>80.724086</td>\n",
              "      <td>-22.400816</td>\n",
              "      <td>-22.400816</td>\n",
              "      <td>-22.400816</td>\n",
              "      <td>-21.766139</td>\n",
              "      <td>...</td>\n",
              "      <td>1.290203</td>\n",
              "      <td>1.290203</td>\n",
              "      <td>1.290203</td>\n",
              "      <td>-1.924880</td>\n",
              "      <td>-1.924880</td>\n",
              "      <td>-1.924880</td>\n",
              "      <td>0.0</td>\n",
              "      <td>0.0</td>\n",
              "      <td>0.0</td>\n",
              "      <td>38.099717</td>\n",
              "    </tr>\n",
              "    <tr>\n",
              "      <th>34953</th>\n",
              "      <td>2012-12-06 12:50:00</td>\n",
              "      <td>60.544051</td>\n",
              "      <td>-256.390193</td>\n",
              "      <td>348.498586</td>\n",
              "      <td>40.289936</td>\n",
              "      <td>80.907966</td>\n",
              "      <td>-20.296273</td>\n",
              "      <td>-20.296273</td>\n",
              "      <td>-20.296273</td>\n",
              "      <td>-21.766139</td>\n",
              "      <td>...</td>\n",
              "      <td>2.851729</td>\n",
              "      <td>2.851729</td>\n",
              "      <td>2.851729</td>\n",
              "      <td>-1.381863</td>\n",
              "      <td>-1.381863</td>\n",
              "      <td>-1.381863</td>\n",
              "      <td>0.0</td>\n",
              "      <td>0.0</td>\n",
              "      <td>0.0</td>\n",
              "      <td>40.247778</td>\n",
              "    </tr>\n",
              "    <tr>\n",
              "      <th>34954</th>\n",
              "      <td>2012-12-07 12:50:00</td>\n",
              "      <td>60.587568</td>\n",
              "      <td>-234.189649</td>\n",
              "      <td>337.622801</td>\n",
              "      <td>40.160844</td>\n",
              "      <td>81.086825</td>\n",
              "      <td>-18.710612</td>\n",
              "      <td>-18.710612</td>\n",
              "      <td>-18.710612</td>\n",
              "      <td>-21.766139</td>\n",
              "      <td>...</td>\n",
              "      <td>3.915425</td>\n",
              "      <td>3.915425</td>\n",
              "      <td>3.915425</td>\n",
              "      <td>-0.859898</td>\n",
              "      <td>-0.859898</td>\n",
              "      <td>-0.859898</td>\n",
              "      <td>0.0</td>\n",
              "      <td>0.0</td>\n",
              "      <td>0.0</td>\n",
              "      <td>41.876956</td>\n",
              "    </tr>\n",
              "    <tr>\n",
              "      <th>34955</th>\n",
              "      <td>2012-12-08 12:50:00</td>\n",
              "      <td>60.631085</td>\n",
              "      <td>-262.282059</td>\n",
              "      <td>312.974318</td>\n",
              "      <td>40.115426</td>\n",
              "      <td>81.235669</td>\n",
              "      <td>-27.302417</td>\n",
              "      <td>-27.302417</td>\n",
              "      <td>-27.302417</td>\n",
              "      <td>-21.766139</td>\n",
              "      <td>...</td>\n",
              "      <td>-5.174554</td>\n",
              "      <td>-5.174554</td>\n",
              "      <td>-5.174554</td>\n",
              "      <td>-0.361724</td>\n",
              "      <td>-0.361724</td>\n",
              "      <td>-0.361724</td>\n",
              "      <td>0.0</td>\n",
              "      <td>0.0</td>\n",
              "      <td>0.0</td>\n",
              "      <td>33.328668</td>\n",
              "    </tr>\n",
              "  </tbody>\n",
              "</table>\n",
              "<p>34956 rows × 22 columns</p>\n",
              "</div>\n",
              "      <button class=\"colab-df-convert\" onclick=\"convertToInteractive('df-ce97c4f3-73fa-463d-b998-c3945c8f4660')\"\n",
              "              title=\"Convert this dataframe to an interactive table.\"\n",
              "              style=\"display:none;\">\n",
              "        \n",
              "  <svg xmlns=\"http://www.w3.org/2000/svg\" height=\"24px\"viewBox=\"0 0 24 24\"\n",
              "       width=\"24px\">\n",
              "    <path d=\"M0 0h24v24H0V0z\" fill=\"none\"/>\n",
              "    <path d=\"M18.56 5.44l.94 2.06.94-2.06 2.06-.94-2.06-.94-.94-2.06-.94 2.06-2.06.94zm-11 1L8.5 8.5l.94-2.06 2.06-.94-2.06-.94L8.5 2.5l-.94 2.06-2.06.94zm10 10l.94 2.06.94-2.06 2.06-.94-2.06-.94-.94-2.06-.94 2.06-2.06.94z\"/><path d=\"M17.41 7.96l-1.37-1.37c-.4-.4-.92-.59-1.43-.59-.52 0-1.04.2-1.43.59L10.3 9.45l-7.72 7.72c-.78.78-.78 2.05 0 2.83L4 21.41c.39.39.9.59 1.41.59.51 0 1.02-.2 1.41-.59l7.78-7.78 2.81-2.81c.8-.78.8-2.07 0-2.86zM5.41 20L4 18.59l7.72-7.72 1.47 1.35L5.41 20z\"/>\n",
              "  </svg>\n",
              "      </button>\n",
              "      \n",
              "  <style>\n",
              "    .colab-df-container {\n",
              "      display:flex;\n",
              "      flex-wrap:wrap;\n",
              "      gap: 12px;\n",
              "    }\n",
              "\n",
              "    .colab-df-convert {\n",
              "      background-color: #E8F0FE;\n",
              "      border: none;\n",
              "      border-radius: 50%;\n",
              "      cursor: pointer;\n",
              "      display: none;\n",
              "      fill: #1967D2;\n",
              "      height: 32px;\n",
              "      padding: 0 0 0 0;\n",
              "      width: 32px;\n",
              "    }\n",
              "\n",
              "    .colab-df-convert:hover {\n",
              "      background-color: #E2EBFA;\n",
              "      box-shadow: 0px 1px 2px rgba(60, 64, 67, 0.3), 0px 1px 3px 1px rgba(60, 64, 67, 0.15);\n",
              "      fill: #174EA6;\n",
              "    }\n",
              "\n",
              "    [theme=dark] .colab-df-convert {\n",
              "      background-color: #3B4455;\n",
              "      fill: #D2E3FC;\n",
              "    }\n",
              "\n",
              "    [theme=dark] .colab-df-convert:hover {\n",
              "      background-color: #434B5C;\n",
              "      box-shadow: 0px 1px 3px 1px rgba(0, 0, 0, 0.15);\n",
              "      filter: drop-shadow(0px 1px 2px rgba(0, 0, 0, 0.3));\n",
              "      fill: #FFFFFF;\n",
              "    }\n",
              "  </style>\n",
              "\n",
              "      <script>\n",
              "        const buttonEl =\n",
              "          document.querySelector('#df-ce97c4f3-73fa-463d-b998-c3945c8f4660 button.colab-df-convert');\n",
              "        buttonEl.style.display =\n",
              "          google.colab.kernel.accessAllowed ? 'block' : 'none';\n",
              "\n",
              "        async function convertToInteractive(key) {\n",
              "          const element = document.querySelector('#df-ce97c4f3-73fa-463d-b998-c3945c8f4660');\n",
              "          const dataTable =\n",
              "            await google.colab.kernel.invokeFunction('convertToInteractive',\n",
              "                                                     [key], {});\n",
              "          if (!dataTable) return;\n",
              "\n",
              "          const docLinkHtml = 'Like what you see? Visit the ' +\n",
              "            '<a target=\"_blank\" href=https://colab.research.google.com/notebooks/data_table.ipynb>data table notebook</a>'\n",
              "            + ' to learn more about interactive tables.';\n",
              "          element.innerHTML = '';\n",
              "          dataTable['output_type'] = 'display_data';\n",
              "          await google.colab.output.renderOutput(dataTable, element);\n",
              "          const docLink = document.createElement('div');\n",
              "          docLink.innerHTML = docLinkHtml;\n",
              "          element.appendChild(docLink);\n",
              "        }\n",
              "      </script>\n",
              "    </div>\n",
              "  </div>\n",
              "  "
            ]
          },
          "metadata": {},
          "execution_count": 30
        }
      ]
    },
    {
      "cell_type": "code",
      "source": [
        "print(forecast[['ds', 'yhat', 'yhat_lower', 'yhat_upper']].head())"
      ],
      "metadata": {
        "colab": {
          "base_uri": "https://localhost:8080/"
        },
        "id": "fwXpij3Rh-zx",
        "outputId": "9dd10e4a-292d-40b8-af2d-62e66f12bf41"
      },
      "execution_count": null,
      "outputs": [
        {
          "output_type": "stream",
          "name": "stdout",
          "text": [
            "                   ds       yhat  yhat_lower  yhat_upper\n",
            "0 2009-12-01 07:45:00  42.789984 -238.730718  318.933133\n",
            "1 2009-12-01 07:46:00  42.589997 -246.548229  333.841906\n",
            "2 2009-12-01 09:06:00  34.909029 -230.154537  312.002124\n",
            "3 2009-12-01 09:08:00  34.828879 -236.566711  331.268957\n",
            "4 2009-12-01 09:24:00  34.192471 -257.835153  296.831830\n"
          ]
        }
      ]
    }
  ]
}